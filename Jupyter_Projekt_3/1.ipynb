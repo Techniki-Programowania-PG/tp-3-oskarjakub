{
 "cells": [
  {
   "cell_type": "markdown",
   "id": "2bd13e91-eccf-4964-9ac0-4498bd4fe230",
   "metadata": {},
   "source": [
    "Projekt 3 Techniki Programowania"
   ]
  },
  {
   "cell_type": "markdown",
   "id": "15400cea-d8fb-4411-83c5-4a21c08f4e28",
   "metadata": {},
   "source": [
    "Oskar Osipowicz (203667) i Jakub Rutkowski (203922)"
   ]
  },
  {
   "cell_type": "markdown",
   "id": "7b1f796d-50ac-4d05-860e-ac830aaa889b",
   "metadata": {},
   "source": [
    "Import Biblioteki:"
   ]
  },
  {
   "cell_type": "code",
   "execution_count": 1,
   "id": "cf7173b1-1a20-407f-bb82-f2ec5038e431",
   "metadata": {},
   "outputs": [],
   "source": [
    "import _core"
   ]
  },
  {
   "cell_type": "markdown",
   "id": "b7f97f36-2771-46c0-bdfa-1612eed38873",
   "metadata": {},
   "source": [
    "Funkcja na wyświetlanie sygnału Sinus:"
   ]
  },
  {
   "cell_type": "code",
   "execution_count": 2,
   "id": "e85d2322-e438-4c70-abb4-b2b5e602e167",
   "metadata": {},
   "outputs": [],
   "source": [
    "sinus = _core.sinus(1, 0, 6.28, 500, 1)"
   ]
  },
  {
   "cell_type": "markdown",
   "id": "e788e059-ef64-42e7-99e2-fa80bcb881f7",
   "metadata": {},
   "source": [
    "Funkcja na wyświetlanie sygnału Cosinus:"
   ]
  },
  {
   "cell_type": "code",
   "execution_count": 3,
   "id": "d4365822-43a3-44ad-b4e6-e11d0cefa150",
   "metadata": {},
   "outputs": [],
   "source": [
    "cosinus = _core.cosinus(1, 0, 12.56, 500, 1)"
   ]
  },
  {
   "cell_type": "markdown",
   "id": "a967c7e1-fe36-4e24-888e-6bf05282c56d",
   "metadata": {
    "editable": true,
    "slideshow": {
     "slide_type": ""
    },
    "tags": []
   },
   "source": [
    "Funkcja na wyświetlanie sygnału Prostokątnego:"
   ]
  },
  {
   "cell_type": "code",
   "execution_count": 4,
   "id": "e7177654-a21b-4b7b-b34a-782f309c68a6",
   "metadata": {},
   "outputs": [],
   "source": [
    "_core.prostokat(1, 0, 6.28, 500, 1)"
   ]
  },
  {
   "cell_type": "markdown",
   "id": "d0e5d530-db41-4ef4-a709-c19ae83f3516",
   "metadata": {},
   "source": [
    "Funkcja na wyświetlanie sygnału Piłowego:"
   ]
  },
  {
   "cell_type": "code",
   "execution_count": 5,
   "id": "8d3cfd7c-39de-4c8b-9180-225f3eb525b7",
   "metadata": {},
   "outputs": [],
   "source": [
    "_core.pila(1, 0, 6.28, 500, 1)"
   ]
  },
  {
   "cell_type": "markdown",
   "id": "446847ce-02e1-4558-87b5-2021942e8081",
   "metadata": {},
   "source": [
    "Funkcja DFT:"
   ]
  },
  {
   "cell_type": "code",
   "execution_count": 6,
   "id": "838069cb-5302-4dec-8245-501992fb4ae7",
   "metadata": {},
   "outputs": [],
   "source": [
    "dft = (_core.DFT(sinus, 0, 6.28, 500))"
   ]
  },
  {
   "cell_type": "markdown",
   "id": "2c7ee38e-bae2-4894-b288-baabe3f994d8",
   "metadata": {},
   "source": [
    "Funkcja IDFT:"
   ]
  },
  {
   "cell_type": "code",
   "execution_count": 7,
   "id": "e045534c-d223-4445-ab89-c0711f44a4e2",
   "metadata": {},
   "outputs": [],
   "source": [
    "idft = _core.IDFT(dft, 0, 6.28, 500)"
   ]
  },
  {
   "cell_type": "markdown",
   "id": "93bac97b-b7ef-48c0-bbb7-18447f5ad41b",
   "metadata": {},
   "source": [
    "Filtracja 1D:"
   ]
  },
  {
   "cell_type": "code",
   "execution_count": 8,
   "id": "34f2b746-5bf8-447c-96f1-47b2c90c3c59",
   "metadata": {},
   "outputs": [],
   "source": [
    "_core.unoD(sinus, 0, 6.28, 500)"
   ]
  },
  {
   "cell_type": "markdown",
   "id": "4c702ef1-241d-47d8-8005-9cfd7e3881e7",
   "metadata": {},
   "source": [
    "Filtracja 2D"
   ]
  },
  {
   "cell_type": "code",
   "execution_count": 9,
   "id": "bec79694-78c1-4ed7-ad83-70caa851ec6e",
   "metadata": {
    "jupyter": {
     "source_hidden": true
    }
   },
   "outputs": [],
   "source": [
    "dwad = _core.dosD(0, 20)"
   ]
  },
  {
   "cell_type": "markdown",
   "id": "ee121614-a4d5-4222-8789-c3b892d9f679",
   "metadata": {},
   "source": [
    "Wykrywanie pików sygnału (zad 4):"
   ]
  },
  {
   "cell_type": "code",
   "execution_count": 10,
   "id": "a8868af9-8277-41ef-807e-d66400a55f61",
   "metadata": {},
   "outputs": [
    {
     "name": "stdout",
     "output_type": "stream",
     "text": [
      "[6.292585170340682]\n"
     ]
    }
   ],
   "source": [
    "print(_core.Piki(cosinus, 0, 12.56, 500))"
   ]
  }
 ],
 "metadata": {
  "kernelspec": {
   "display_name": "Python 3 (ipykernel)",
   "language": "python",
   "name": "python3"
  },
  "language_info": {
   "codemirror_mode": {
    "name": "ipython",
    "version": 3
   },
   "file_extension": ".py",
   "mimetype": "text/x-python",
   "name": "python",
   "nbconvert_exporter": "python",
   "pygments_lexer": "ipython3",
   "version": "3.10.10"
  }
 },
 "nbformat": 4,
 "nbformat_minor": 5
}
